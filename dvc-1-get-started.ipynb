{
 "cells": [
  {
   "cell_type": "markdown",
   "metadata": {},
   "source": [
    "# Install and init DVC\n",
    "\n",
    "Prerequisites: \n",
    "-  DVC and requirements.txt packages installed (if not - check README.md file for instructions)\n",
    "-  A project repository is a Git repo "
   ]
  },
  {
   "cell_type": "markdown",
   "metadata": {
    "ExecuteTime": {
     "end_time": "2019-06-08T11:18:29.199273Z",
     "start_time": "2019-06-08T11:18:29.196865Z"
    }
   },
   "source": [
    "## Initialize DVC\n",
    "\n",
    "References: \n",
    "- https://dvc.org/doc/get-started/initialize "
   ]
  },
  {
   "cell_type": "code",
   "execution_count": null,
   "metadata": {
    "ExecuteTime": {
     "end_time": "2020-06-07T15:14:05.457897Z",
     "start_time": "2020-06-07T15:14:04.794229Z"
    }
   },
   "outputs": [],
   "source": [
    "!dvc init"
   ]
  },
  {
   "cell_type": "markdown",
   "metadata": {},
   "source": [
    "## Commit changes"
   ]
  },
  {
   "cell_type": "code",
   "execution_count": null,
   "metadata": {
    "ExecuteTime": {
     "end_time": "2019-06-09T07:56:42.119367Z",
     "start_time": "2019-06-09T07:56:42.004239Z"
    }
   },
   "outputs": [],
   "source": [
    "%%bash\n",
    "\n",
    "git add .\n",
    "git commit -m \"Initialize DVC\""
   ]
  },
  {
   "cell_type": "markdown",
   "metadata": {},
   "source": [
    "## Review Files and Directories created by DVC"
   ]
  },
  {
   "cell_type": "code",
   "execution_count": null,
   "metadata": {
    "ExecuteTime": {
     "end_time": "2020-06-07T15:44:02.848188Z",
     "start_time": "2020-06-07T15:44:02.729793Z"
    }
   },
   "outputs": [],
   "source": [
    "!ls -a .dvc "
   ]
  },
  {
   "cell_type": "code",
   "execution_count": null,
   "metadata": {
    "ExecuteTime": {
     "end_time": "2020-06-07T15:47:30.242894Z",
     "start_time": "2020-06-07T15:47:30.122806Z"
    }
   },
   "outputs": [],
   "source": [
    "!cat .dvc/.gitignore"
   ]
  },
  {
   "cell_type": "markdown",
   "metadata": {},
   "source": [
    "# Quick Tour of DVC features"
   ]
  },
  {
   "cell_type": "markdown",
   "metadata": {},
   "source": [
    "## Data Versioning"
   ]
  },
  {
   "cell_type": "code",
   "execution_count": 1,
   "metadata": {
    "ExecuteTime": {
     "end_time": "2020-06-07T17:06:11.216221Z",
     "start_time": "2020-06-07T17:06:11.173316Z"
    },
    "scrolled": true
   },
   "outputs": [],
   "source": [
    "# Get data \n",
    "\n",
    "import pandas as pd\n",
    "from sklearn.datasets import load_iris\n",
    "\n",
    "data = load_iris(as_frame=True)\n",
    "list(data.target_names)\n",
    "data.frame.to_csv('data/iris.csv', index=False)"
   ]
  },
  {
   "cell_type": "code",
   "execution_count": 2,
   "metadata": {
    "ExecuteTime": {
     "end_time": "2020-06-07T16:39:05.495085Z",
     "start_time": "2020-06-07T16:39:05.486370Z"
    }
   },
   "outputs": [
    {
     "data": {
      "text/html": [
       "<div>\n",
       "<style scoped>\n",
       "    .dataframe tbody tr th:only-of-type {\n",
       "        vertical-align: middle;\n",
       "    }\n",
       "\n",
       "    .dataframe tbody tr th {\n",
       "        vertical-align: top;\n",
       "    }\n",
       "\n",
       "    .dataframe thead th {\n",
       "        text-align: right;\n",
       "    }\n",
       "</style>\n",
       "<table border=\"1\" class=\"dataframe\">\n",
       "  <thead>\n",
       "    <tr style=\"text-align: right;\">\n",
       "      <th></th>\n",
       "      <th>sepal length (cm)</th>\n",
       "      <th>sepal width (cm)</th>\n",
       "      <th>petal length (cm)</th>\n",
       "      <th>petal width (cm)</th>\n",
       "      <th>target</th>\n",
       "    </tr>\n",
       "  </thead>\n",
       "  <tbody>\n",
       "    <tr>\n",
       "      <th>0</th>\n",
       "      <td>5.1</td>\n",
       "      <td>3.5</td>\n",
       "      <td>1.4</td>\n",
       "      <td>0.2</td>\n",
       "      <td>0</td>\n",
       "    </tr>\n",
       "    <tr>\n",
       "      <th>1</th>\n",
       "      <td>4.9</td>\n",
       "      <td>3.0</td>\n",
       "      <td>1.4</td>\n",
       "      <td>0.2</td>\n",
       "      <td>0</td>\n",
       "    </tr>\n",
       "    <tr>\n",
       "      <th>2</th>\n",
       "      <td>4.7</td>\n",
       "      <td>3.2</td>\n",
       "      <td>1.3</td>\n",
       "      <td>0.2</td>\n",
       "      <td>0</td>\n",
       "    </tr>\n",
       "    <tr>\n",
       "      <th>3</th>\n",
       "      <td>4.6</td>\n",
       "      <td>3.1</td>\n",
       "      <td>1.5</td>\n",
       "      <td>0.2</td>\n",
       "      <td>0</td>\n",
       "    </tr>\n",
       "    <tr>\n",
       "      <th>4</th>\n",
       "      <td>5.0</td>\n",
       "      <td>3.6</td>\n",
       "      <td>1.4</td>\n",
       "      <td>0.2</td>\n",
       "      <td>0</td>\n",
       "    </tr>\n",
       "  </tbody>\n",
       "</table>\n",
       "</div>"
      ],
      "text/plain": [
       "   sepal length (cm)  sepal width (cm)  petal length (cm)  petal width (cm)  \\\n",
       "0                5.1               3.5                1.4               0.2   \n",
       "1                4.9               3.0                1.4               0.2   \n",
       "2                4.7               3.2                1.3               0.2   \n",
       "3                4.6               3.1                1.5               0.2   \n",
       "4                5.0               3.6                1.4               0.2   \n",
       "\n",
       "   target  \n",
       "0       0  \n",
       "1       0  \n",
       "2       0  \n",
       "3       0  \n",
       "4       0  "
      ]
     },
     "execution_count": 2,
     "metadata": {},
     "output_type": "execute_result"
    }
   ],
   "source": [
    "# Look on data\n",
    "\n",
    "data.frame.head()"
   ]
  },
  {
   "cell_type": "code",
   "execution_count": null,
   "metadata": {
    "ExecuteTime": {
     "end_time": "2020-06-07T16:39:19.987379Z",
     "start_time": "2020-06-07T16:39:19.972195Z"
    }
   },
   "outputs": [],
   "source": [
    "%%bash\n",
    "\n",
    "du -sh data/*"
   ]
  },
  {
   "cell_type": "markdown",
   "metadata": {},
   "source": [
    "## Add file under DVC control"
   ]
  },
  {
   "cell_type": "code",
   "execution_count": null,
   "metadata": {
    "ExecuteTime": {
     "end_time": "2020-06-07T16:39:35.010906Z",
     "start_time": "2020-06-07T16:39:31.237012Z"
    },
    "scrolled": true
   },
   "outputs": [],
   "source": [
    "%%bash\n",
    "\n",
    "dvc add data/iris.csv"
   ]
  },
  {
   "cell_type": "code",
   "execution_count": null,
   "metadata": {
    "ExecuteTime": {
     "end_time": "2020-06-07T16:40:05.100292Z",
     "start_time": "2020-06-07T16:40:04.977600Z"
    }
   },
   "outputs": [],
   "source": [
    "!du -sh data/*"
   ]
  },
  {
   "cell_type": "code",
   "execution_count": null,
   "metadata": {
    "ExecuteTime": {
     "end_time": "2020-06-07T16:42:08.776650Z",
     "start_time": "2020-06-07T16:42:08.645764Z"
    }
   },
   "outputs": [],
   "source": [
    "!git status -s data/"
   ]
  },
  {
   "cell_type": "code",
   "execution_count": null,
   "metadata": {
    "ExecuteTime": {
     "end_time": "2019-06-09T07:57:55.231135Z",
     "start_time": "2019-06-09T07:57:55.190232Z"
    },
    "scrolled": true
   },
   "outputs": [],
   "source": [
    "%%bash\n",
    "\n",
    "git add .\n",
    "git commit -m \"Add a source dataset\""
   ]
  },
  {
   "cell_type": "markdown",
   "metadata": {},
   "source": [
    "## Create and Reproduce ML pipelines \n",
    "\n",
    "Stages \n",
    "- extract features \n",
    "- split dataset \n",
    "- train \n",
    "- evaluate \n"
   ]
  },
  {
   "attachments": {},
   "cell_type": "markdown",
   "metadata": {},
   "source": [
    "### Add pipeline stages to `dvc.yaml` \n",
    "\n",
    "```yaml\n",
    "stages:\n",
    "  \n",
    "  evaluate: \n",
    "    cmd: python src/featurize.py\n",
    "    deps:\n",
    "    - data/iris.csv\n",
    "    - src/featurize.py\n",
    "    outs:\n",
    "    - data/features_iris.csv\n",
    "  \n",
    "  split_dataset: \n",
    "    cmd: python src/split_dataset.py\n",
    "    deps:\n",
    "    - data/features_iris.csv\n",
    "    outs:\n",
    "    - data/train.csv\n",
    "    - data/test.csv\n",
    "    \n",
    "  train: \n",
    "    cmd: python src/train.py\n",
    "    deps:\n",
    "    - data/train.csv\n",
    "    outs:\n",
    "    - data/model.joblib\n",
    "\n",
    "  evaluate: \n",
    "    cmd: python src/evaluate.py\n",
    "    deps:\n",
    "    - data/model.joblib\n",
    "    - data/test.csv\n",
    "    outs:\n",
    "    - data/eval.txt\n",
    "```"
   ]
  },
  {
   "cell_type": "markdown",
   "metadata": {},
   "source": [
    "### Run DVC pipeline (all stages)"
   ]
  },
  {
   "cell_type": "code",
   "execution_count": null,
   "metadata": {},
   "outputs": [],
   "source": [
    "!dvc exp run"
   ]
  },
  {
   "cell_type": "code",
   "execution_count": null,
   "metadata": {
    "ExecuteTime": {
     "end_time": "2020-06-07T17:08:40.955649Z",
     "start_time": "2020-06-07T17:08:40.833495Z"
    }
   },
   "outputs": [],
   "source": [
    "!ls "
   ]
  },
  {
   "cell_type": "code",
   "execution_count": null,
   "metadata": {
    "ExecuteTime": {
     "end_time": "2020-06-07T17:09:21.669767Z",
     "start_time": "2020-06-07T17:09:21.598219Z"
    }
   },
   "outputs": [],
   "source": [
    "%%bash\n",
    "git add .\n",
    "git commit -m \"New expeirment\""
   ]
  },
  {
   "cell_type": "markdown",
   "metadata": {},
   "source": [
    "## Collaborate on ML Experiments "
   ]
  },
  {
   "cell_type": "markdown",
   "metadata": {},
   "source": [
    "### Specify remote storage (local ~ /tmp/dvc)\n"
   ]
  },
  {
   "cell_type": "code",
   "execution_count": null,
   "metadata": {
    "ExecuteTime": {
     "end_time": "2020-06-07T17:20:16.138249Z",
     "start_time": "2020-06-07T17:20:16.135878Z"
    }
   },
   "outputs": [],
   "source": [
    "!dvc remote add -d local /tmp/dvc"
   ]
  },
  {
   "cell_type": "markdown",
   "metadata": {},
   "source": [
    "### Push features to remote storage"
   ]
  },
  {
   "cell_type": "code",
   "execution_count": null,
   "metadata": {
    "ExecuteTime": {
     "end_time": "2020-06-07T17:18:52.959781Z",
     "start_time": "2020-06-07T17:18:51.443013Z"
    }
   },
   "outputs": [],
   "source": [
    "!dvc push"
   ]
  }
 ],
 "metadata": {
  "kernelspec": {
   "display_name": "Python 3 (ipykernel)",
   "language": "python",
   "name": "python3"
  },
  "language_info": {
   "codemirror_mode": {
    "name": "ipython",
    "version": 3
   },
   "file_extension": ".py",
   "mimetype": "text/x-python",
   "name": "python",
   "nbconvert_exporter": "python",
   "pygments_lexer": "ipython3",
   "version": "3.10.4"
  },
  "toc": {
   "base_numbering": 1,
   "nav_menu": {},
   "number_sections": true,
   "sideBar": true,
   "skip_h1_title": false,
   "title_cell": "Table of Contents",
   "title_sidebar": "Contents",
   "toc_cell": false,
   "toc_position": {
    "height": "calc(100% - 180px)",
    "left": "10px",
    "top": "150px",
    "width": "231px"
   },
   "toc_section_display": true,
   "toc_window_display": true
  },
  "varInspector": {
   "cols": {
    "lenName": 16,
    "lenType": 16,
    "lenVar": 40
   },
   "kernels_config": {
    "python": {
     "delete_cmd_postfix": "",
     "delete_cmd_prefix": "del ",
     "library": "var_list.py",
     "varRefreshCmd": "print(var_dic_list())"
    },
    "r": {
     "delete_cmd_postfix": ") ",
     "delete_cmd_prefix": "rm(",
     "library": "var_list.r",
     "varRefreshCmd": "cat(var_dic_list()) "
    }
   },
   "types_to_exclude": [
    "module",
    "function",
    "builtin_function_or_method",
    "instance",
    "_Feature"
   ],
   "window_display": false
  }
 },
 "nbformat": 4,
 "nbformat_minor": 4
}
